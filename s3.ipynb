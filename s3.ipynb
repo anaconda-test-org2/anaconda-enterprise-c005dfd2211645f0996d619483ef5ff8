{
 "cells": [
  {
   "cell_type": "code",
   "execution_count": null,
   "metadata": {},
   "outputs": [],
   "source": [
    "# The s3fs package is installed using conda and through the anaconda-project.yml file\n",
    "from s3fs.core import S3FileSystem\n",
    "\n",
    "\n",
    "# Use configparser to read the credentials file\n",
    "import configparser\n",
    "\n",
    "\"\"\"\n",
    "Credentials would need to be in ini format for this example and look similar to the following example:\n",
    "\n",
    "[default]\n",
    "aws_access_key_id=ACCESS_KEY_HERE\n",
    "aws_secret_access_key=SECRET_ACCESS_KEY_HERE\n",
    "\n",
    "Configparser is in the standard library and can be used to read the ini file so\n",
    "you can use the parts of the ini file by name when setting up the s3 object below\n",
    "\n",
    "You can find addtional info for adding secrets at the following location\n",
    "https://enterprise-docs.anaconda.com/en/docs-site-5.2.3/data-science-workflows/user-settings.html#store-secrets\n",
    "\n",
    "Note: This is one way to do it, and there are methods to achieve the same result. Use the method\n",
    "that best suits your organization and project needs.\n",
    "\"\"\"\n",
    "config = configparser.ConfigParser()\n",
    "config.read('/var/run/secrets/user_credentials/CREDENTIAL_NAME')\n",
    "\n",
    "# Set up the object using the credentials from the file referenced above\n",
    "fs = S3FileSystem(\n",
    "    anon=False,\n",
    "    key=config.get('default', 'aws_access_key_id'),\n",
    "    secret=config.get('default', 'aws_secret_access_key')\n",
    ")\n",
    "\n",
    "\"\"\"\n",
    "For bucket the value will be the path to the folder you are wanting to use i.e. if the bucket is\n",
    "named \"test_bucket\" and has a folder underneath named \"examples\" the path would be \"test_bucket/examples\".\n",
    "\n",
    "From there you can reference all files in that path and/or retrieve specific file(s) from that path.\n",
    "\"\"\"\n",
    "bucket = 'BUCKET_FOLDER_PATH'\n",
    "file_name = 'FILE_NAME_HOLDING_DATA'\n",
    "\n",
    "# To list all files in the specified bucket path\n",
    "all_files = fs.ls(f'{bucket}')\n",
    "print(all_files)\n",
    "\n",
    "# To read from a specified file in the named bucket path\n",
    "with fs.open(f'{bucket}/{file_name}', mode='rb') as f:\n",
    "    print(f.read())"
   ]
  }
 ],
 "metadata": {
  "kernelspec": {
   "display_name": "Python 3",
   "language": "python",
   "name": "anaconda-project-anaconda50_py36-python3"
  },
  "language_info": {
   "codemirror_mode": {
    "name": "ipython",
    "version": 3
   },
   "file_extension": ".py",
   "mimetype": "text/x-python",
   "name": "python",
   "nbconvert_exporter": "python",
   "pygments_lexer": "ipython3",
   "version": "3.6.3"
  }
 },
 "nbformat": 4,
 "nbformat_minor": 2
}
